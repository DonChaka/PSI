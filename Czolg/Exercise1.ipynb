{
 "cells": [
  {
   "cell_type": "code",
   "execution_count": 1,
   "metadata": {
    "pycharm": {
     "name": "#%%\n"
    }
   },
   "outputs": [],
   "source": [
    "import vrep\n",
    "import sys\n",
    "import numpy as np\n",
    "from tank import *\n",
    "from skfuzzy import control as ctrl"
   ]
  },
  {
   "cell_type": "markdown",
   "source": [
    "## Agresywne hamowanie"
   ],
   "metadata": {
    "collapsed": false,
    "pycharm": {
     "name": "#%% md\n"
    }
   }
  },
  {
   "cell_type": "code",
   "execution_count": 2,
   "outputs": [],
   "source": [
    "def aggresiveSimulation():\n",
    "    x_speeds = np.arange(-3, 15, 1)\n",
    "    x_distances = np.arange(0, 5, 1)\n",
    "\n",
    "\n",
    "    distance = ctrl.Antecedent(x_distances, 'distance')\n",
    "    target_velocity = ctrl.Consequent(x_speeds, 'target_velocity')\n",
    "\n",
    "    distance.automf(3)\n",
    "    target_velocity.automf(3)\n",
    "\n",
    "    rules = (\n",
    "        ctrl.Rule(distance['poor'] , target_velocity['poor']),\n",
    "        ctrl.Rule(distance['good'] , target_velocity['good'])\n",
    "    )\n",
    "\n",
    "    driver = ctrl.ControlSystemSimulation(ctrl.ControlSystem(rules=rules))\n",
    "\n",
    "    vrep.simxFinish(-1) # closes all opened connections, in case any prevoius wasnt finished\n",
    "    clientID=vrep.simxStart('127.0.0.1',19999,True,True,5000,5) # start a connection\n",
    "\n",
    "    if clientID!=-1:\n",
    "        pass\n",
    "        # print (\"Connected to remote API server\")\n",
    "    else:\n",
    "        # print(\"Not connected to remote API server\")\n",
    "        sys.exit(\"Could not connect\")\n",
    "\n",
    "    tank=Tank(clientID)\n",
    "\n",
    "    err_code,ps_handle = vrep.simxGetObjectHandle(clientID,\"Proximity_sensor\", vrep.simx_opmode_blocking)\n",
    "\n",
    "    while True:\n",
    "        err_code,_,detectedPoint,_,_=vrep.simxReadProximitySensor(clientID,ps_handle,vrep.simx_opmode_streaming)\n",
    "        dst = np.linalg.norm(detectedPoint)\n",
    "        c_vel = tank.readVelocity()\n",
    "\n",
    "        driver.input['distance'] = dst\n",
    "\n",
    "        driver.compute()\n",
    "\n",
    "        target = driver.output['target_velocity']\n",
    "        if target <= 0.5:\n",
    "            target = 0\n",
    "\n",
    "        tank.forward(target)\n",
    "        print(f\"\\rdst={dst:.2f}, curr_velocity={c_vel:.2f}, target_velocity={target:.2f}\", end='')"
   ],
   "metadata": {
    "collapsed": false,
    "pycharm": {
     "name": "#%%\n"
    }
   }
  },
  {
   "cell_type": "code",
   "execution_count": 3,
   "outputs": [
    {
     "ename": "SystemExit",
     "evalue": "Could not connect",
     "output_type": "error",
     "traceback": [
      "An exception has occurred, use %tb to see the full traceback.\n",
      "\u001B[1;31mSystemExit\u001B[0m\u001B[1;31m:\u001B[0m Could not connect\n"
     ]
    },
    {
     "name": "stderr",
     "output_type": "stream",
     "text": [
      "D:\\Python\\Skrypty\\venv\\lib\\site-packages\\IPython\\core\\interactiveshell.py:3369: UserWarning: To exit: use 'exit', 'quit', or Ctrl-D.\n",
      "  warn(\"To exit: use 'exit', 'quit', or Ctrl-D.\", stacklevel=1)\n"
     ]
    }
   ],
   "source": [
    "aggresiveSimulation()"
   ],
   "metadata": {
    "collapsed": false,
    "pycharm": {
     "name": "#%%\n"
    }
   }
  },
  {
   "cell_type": "markdown",
   "source": [
    "## Lagodniejsze hamowanie"
   ],
   "metadata": {
    "collapsed": false,
    "pycharm": {
     "name": "#%% md\n"
    }
   }
  },
  {
   "cell_type": "code",
   "execution_count": null,
   "outputs": [],
   "source": [
    "def gradualSimulation():\n",
    "    x_speeds = np.arange(-5, 13, 0.1)\n",
    "    x_distances = np.arange(0, 10, 0.1)\n",
    "\n",
    "    distance = ctrl.Antecedent(x_distances, 'distance')\n",
    "    curr_velocity = ctrl.Antecedent(x_speeds, 'curr_velocity')\n",
    "    target_velocity = ctrl.Consequent(x_speeds, 'target_velocity')\n",
    "\n",
    "    distance.automf(3)\n",
    "    target_velocity.automf(3)\n",
    "    curr_velocity.automf(3)\n",
    "\n",
    "    rules = (\n",
    "        ctrl.Rule(distance['poor'] & curr_velocity['poor'], target_velocity['poor']),\n",
    "        ctrl.Rule(distance['poor'] & curr_velocity['average'], target_velocity['poor']),\n",
    "        ctrl.Rule(distance['poor'] & curr_velocity['good'], target_velocity['average']),\n",
    "        ctrl.Rule(distance['average'] & curr_velocity['poor'], target_velocity['good']),\n",
    "        ctrl.Rule(distance['average'] & curr_velocity['average'], target_velocity['good']),\n",
    "        ctrl.Rule(distance['average'] & curr_velocity['good'], target_velocity['good']),\n",
    "        ctrl.Rule(distance['good'] & curr_velocity['poor'], target_velocity['good']),\n",
    "        ctrl.Rule(distance['good'] & curr_velocity['average'], target_velocity['good']),\n",
    "        ctrl.Rule(distance['good'] & curr_velocity['good'], target_velocity['good']),\n",
    "    )\n",
    "\n",
    "    driver = ctrl.ControlSystemSimulation(ctrl.ControlSystem(rules=rules))\n",
    "\n",
    "    vrep.simxFinish(-1) # closes all opened connections, in case any prevoius wasnt finished\n",
    "    clientID=vrep.simxStart('127.0.0.1',19999,True,True,5000,5) # start a connection\n",
    "\n",
    "    if clientID!=-1:\n",
    "        print (\"Connected to remote API server\")\n",
    "    else:\n",
    "        print(\"Not connected to remote API server\")\n",
    "        sys.exit(\"Could not connect\")\n",
    "\n",
    "    tank=Tank(clientID)\n",
    "\n",
    "    err_code,ps_handle = vrep.simxGetObjectHandle(clientID,\"Proximity_sensor\", vrep.simx_opmode_blocking)\n",
    "\n",
    "\n",
    "    while True:\n",
    "        err_code,_,detectedPoint,_,_=vrep.simxReadProximitySensor(clientID,ps_handle,vrep.simx_opmode_streaming)\n",
    "        dst = np.linalg.norm(detectedPoint)\n",
    "        c_vel = tank.readVelocity()\n",
    "\n",
    "        driver.input['distance'] = dst\n",
    "        driver.input['curr_velocity'] = c_vel\n",
    "\n",
    "        driver.compute()\n",
    "\n",
    "        target = driver.output['target_velocity']\n",
    "        if target <= 0.5:\n",
    "            target = 0\n",
    "\n",
    "        tank.forward(target)\n",
    "        print(f\"\\rdst={dst:.2f}, curr_velocity={c_vel:.2f}, target_velocity={target:.2f}\", end='')"
   ],
   "metadata": {
    "collapsed": false,
    "pycharm": {
     "name": "#%%\n"
    }
   }
  },
  {
   "cell_type": "code",
   "execution_count": null,
   "outputs": [],
   "source": [
    "gradualSimulation()"
   ],
   "metadata": {
    "collapsed": false,
    "pycharm": {
     "name": "#%%\n"
    }
   }
  },
  {
   "cell_type": "code",
   "execution_count": null,
   "outputs": [],
   "source": [],
   "metadata": {
    "collapsed": false,
    "pycharm": {
     "name": "#%%\n"
    }
   }
  }
 ],
 "metadata": {
  "kernelspec": {
   "display_name": "Python 3",
   "language": "python",
   "name": "python3"
  },
  "language_info": {
   "codemirror_mode": {
    "name": "ipython",
    "version": 3
   },
   "file_extension": ".py",
   "mimetype": "text/x-python",
   "name": "python",
   "nbconvert_exporter": "python",
   "pygments_lexer": "ipython3",
   "version": "3.7.1"
  }
 },
 "nbformat": 4,
 "nbformat_minor": 2
}