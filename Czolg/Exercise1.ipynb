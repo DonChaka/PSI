{
 "cells": [
  {
   "cell_type": "code",
   "execution_count": 26,
   "metadata": {
    "pycharm": {
     "name": "#%%\n"
    }
   },
   "outputs": [],
   "source": [
    "import vrep \n",
    "import sys\n",
    "import time \n",
    "import numpy as np\n",
    "from tank import *\n",
    "from skfuzzy import control as ctrl\n",
    "import skfuzzy as fuzz"
   ]
  },
  {
   "cell_type": "markdown",
   "source": [
    "## Agresywne hamowanie"
   ],
   "metadata": {
    "collapsed": false,
    "pycharm": {
     "name": "#%% md\n"
    }
   }
  },
  {
   "cell_type": "code",
   "execution_count": 37,
   "outputs": [],
   "source": [
    "def aggresiveSimulation():\n",
    "    x_speeds = np.arange(-3, 15, 1)\n",
    "    x_distances = np.arange(0, 5, 1)\n",
    "\n",
    "\n",
    "    distance = ctrl.Antecedent(x_distances, 'distance')\n",
    "    target_velocity = ctrl.Consequent(x_speeds, 'target_velocity')\n",
    "\n",
    "    distance.automf(3)\n",
    "    target_velocity.automf(3)\n",
    "\n",
    "    rules = (\n",
    "        ctrl.Rule(distance['poor'] , target_velocity['poor']),\n",
    "        ctrl.Rule(distance['good'] , target_velocity['good'])\n",
    "    )\n",
    "\n",
    "    driver = ctrl.ControlSystemSimulation(ctrl.ControlSystem(rules=rules))\n",
    "\n",
    "    vrep.simxFinish(-1) # closes all opened connections, in case any prevoius wasnt finished\n",
    "    clientID=vrep.simxStart('127.0.0.1',19999,True,True,5000,5) # start a connection\n",
    "\n",
    "    if clientID!=-1:\n",
    "        pass\n",
    "        # print (\"Connected to remote API server\")\n",
    "    else:\n",
    "        # print(\"Not connected to remote API server\")\n",
    "        sys.exit(\"Could not connect\")\n",
    "\n",
    "    tank=Tank(clientID)\n",
    "\n",
    "    err_code,ps_handle = vrep.simxGetObjectHandle(clientID,\"Proximity_sensor\", vrep.simx_opmode_blocking)\n",
    "\n",
    "    while True:\n",
    "        err_code,_,detectedPoint,_,_=vrep.simxReadProximitySensor(clientID,ps_handle,vrep.simx_opmode_streaming)\n",
    "        dst = np.linalg.norm(detectedPoint)\n",
    "        c_vel = tank.readVelocity()\n",
    "\n",
    "        driver.input['distance'] = dst\n",
    "\n",
    "        driver.compute()\n",
    "\n",
    "        target = driver.output['target_velocity']\n",
    "        if target <= 0.5:\n",
    "            target = 0\n",
    "\n",
    "        tank.forward(target)\n",
    "        print(f\"\\rdst={dst:.2f}, curr_velocity={c_vel:.2f}, target_velocity={target:.2f}\", end='')"
   ],
   "metadata": {
    "collapsed": false,
    "pycharm": {
     "name": "#%%\n"
    }
   }
  },
  {
   "cell_type": "code",
   "execution_count": 38,
   "outputs": [
    {
     "name": "stdout",
     "output_type": "stream",
     "text": [
      "dst=0.00, curr_velocity=0.00, target_velocity=0.0071"
     ]
    },
    {
     "ename": "KeyboardInterrupt",
     "evalue": "",
     "output_type": "error",
     "traceback": [
      "\u001B[1;31m---------------------------------------------------------------------------\u001B[0m",
      "\u001B[1;31mKeyboardInterrupt\u001B[0m                         Traceback (most recent call last)",
      "Input \u001B[1;32mIn [38]\u001B[0m, in \u001B[0;36m<cell line: 1>\u001B[1;34m()\u001B[0m\n\u001B[1;32m----> 1\u001B[0m \u001B[43maggresiveSimulation\u001B[49m\u001B[43m(\u001B[49m\u001B[43m)\u001B[49m\n",
      "Input \u001B[1;32mIn [37]\u001B[0m, in \u001B[0;36maggresiveSimulation\u001B[1;34m()\u001B[0m\n\u001B[0;32m     43\u001B[0m \u001B[38;5;28;01mif\u001B[39;00m target \u001B[38;5;241m<\u001B[39m\u001B[38;5;241m=\u001B[39m \u001B[38;5;241m0.5\u001B[39m:\n\u001B[0;32m     44\u001B[0m     target \u001B[38;5;241m=\u001B[39m \u001B[38;5;241m0\u001B[39m\n\u001B[1;32m---> 46\u001B[0m \u001B[43mtank\u001B[49m\u001B[38;5;241;43m.\u001B[39;49m\u001B[43mforward\u001B[49m\u001B[43m(\u001B[49m\u001B[43mtarget\u001B[49m\u001B[43m)\u001B[49m\n\u001B[0;32m     47\u001B[0m \u001B[38;5;28mprint\u001B[39m(\u001B[38;5;124mf\u001B[39m\u001B[38;5;124m\"\u001B[39m\u001B[38;5;130;01m\\r\u001B[39;00m\u001B[38;5;124mdst=\u001B[39m\u001B[38;5;132;01m{\u001B[39;00mdst\u001B[38;5;132;01m:\u001B[39;00m\u001B[38;5;124m.2f\u001B[39m\u001B[38;5;132;01m}\u001B[39;00m\u001B[38;5;124m, curr_velocity=\u001B[39m\u001B[38;5;132;01m{\u001B[39;00mc_vel\u001B[38;5;132;01m:\u001B[39;00m\u001B[38;5;124m.2f\u001B[39m\u001B[38;5;132;01m}\u001B[39;00m\u001B[38;5;124m, target_velocity=\u001B[39m\u001B[38;5;132;01m{\u001B[39;00mtarget\u001B[38;5;132;01m:\u001B[39;00m\u001B[38;5;124m.2f\u001B[39m\u001B[38;5;132;01m}\u001B[39;00m\u001B[38;5;124m\"\u001B[39m, end\u001B[38;5;241m=\u001B[39m\u001B[38;5;124m'\u001B[39m\u001B[38;5;124m'\u001B[39m)\n",
      "File \u001B[1;32mD:\\!studia\\PSI\\Czolg\\tank.py:89\u001B[0m, in \u001B[0;36mTank.forward\u001B[1;34m(self, velocity)\u001B[0m\n\u001B[0;32m     88\u001B[0m \u001B[38;5;28;01mdef\u001B[39;00m \u001B[38;5;21mforward\u001B[39m(\u001B[38;5;28mself\u001B[39m, velocity\u001B[38;5;241m=\u001B[39m\u001B[38;5;28;01mNone\u001B[39;00m):\n\u001B[1;32m---> 89\u001B[0m     \u001B[38;5;28;43mself\u001B[39;49m\u001B[38;5;241;43m.\u001B[39;49m\u001B[43mgo\u001B[49m\u001B[43m(\u001B[49m\u001B[43m)\u001B[49m\n\u001B[0;32m     90\u001B[0m     \u001B[38;5;28;01mif\u001B[39;00m velocity \u001B[38;5;241m!=\u001B[39m \u001B[38;5;28;01mNone\u001B[39;00m:\n\u001B[0;32m     91\u001B[0m         \u001B[38;5;28mself\u001B[39m\u001B[38;5;241m.\u001B[39mleftvelocity \u001B[38;5;241m=\u001B[39m velocity\n",
      "File \u001B[1;32mD:\\!studia\\PSI\\Czolg\\tank.py:64\u001B[0m, in \u001B[0;36mTank.go\u001B[1;34m(self)\u001B[0m\n\u001B[0;32m     62\u001B[0m force \u001B[38;5;241m=\u001B[39m \u001B[38;5;241m0\u001B[39m\n\u001B[0;32m     63\u001B[0m \u001B[38;5;28;01mfor\u001B[39;00m h \u001B[38;5;129;01min\u001B[39;00m \u001B[38;5;28mself\u001B[39m\u001B[38;5;241m.\u001B[39mside_handles:\n\u001B[1;32m---> 64\u001B[0m     err_code \u001B[38;5;241m=\u001B[39m \u001B[43mvrep\u001B[49m\u001B[38;5;241;43m.\u001B[39;49m\u001B[43msimxSetJointForce\u001B[49m\u001B[43m(\u001B[49m\u001B[38;5;28;43mself\u001B[39;49m\u001B[38;5;241;43m.\u001B[39;49m\u001B[43mclientID\u001B[49m\u001B[43m,\u001B[49m\u001B[43m \u001B[49m\u001B[43mh\u001B[49m\u001B[43m,\u001B[49m\u001B[43m \u001B[49m\u001B[43mforce\u001B[49m\u001B[43m,\u001B[49m\u001B[43m \u001B[49m\u001B[43mvrep\u001B[49m\u001B[38;5;241;43m.\u001B[39;49m\u001B[43msimx_opmode_oneshot\u001B[49m\u001B[43m)\u001B[49m\n",
      "File \u001B[1;32mD:\\!studia\\PSI\\Czolg\\vrep.py:205\u001B[0m, in \u001B[0;36msimxSetJointForce\u001B[1;34m(clientID, jointHandle, force, operationMode)\u001B[0m\n\u001B[0;32m    201\u001B[0m \u001B[38;5;28;01mdef\u001B[39;00m \u001B[38;5;21msimxSetJointForce\u001B[39m(clientID, jointHandle, force, operationMode):\n\u001B[0;32m    202\u001B[0m     \u001B[38;5;124;03m'''\u001B[39;00m\n\u001B[0;32m    203\u001B[0m \u001B[38;5;124;03m    Please have a look at the function description/documentation in the V-REP user manual\u001B[39;00m\n\u001B[0;32m    204\u001B[0m \u001B[38;5;124;03m    '''\u001B[39;00m\n\u001B[1;32m--> 205\u001B[0m     \u001B[38;5;28;01mreturn\u001B[39;00m \u001B[43mc_SetJointForce\u001B[49m\u001B[43m(\u001B[49m\u001B[43mclientID\u001B[49m\u001B[43m,\u001B[49m\u001B[43m \u001B[49m\u001B[43mjointHandle\u001B[49m\u001B[43m,\u001B[49m\u001B[43m \u001B[49m\u001B[43mforce\u001B[49m\u001B[43m,\u001B[49m\u001B[43m \u001B[49m\u001B[43moperationMode\u001B[49m\u001B[43m)\u001B[49m\n",
      "\u001B[1;31mKeyboardInterrupt\u001B[0m: "
     ]
    }
   ],
   "source": [
    "aggresiveSimulation()"
   ],
   "metadata": {
    "collapsed": false,
    "pycharm": {
     "name": "#%%\n"
    }
   }
  },
  {
   "cell_type": "code",
   "execution_count": 61,
   "outputs": [],
   "source": [
    "def gradualSimulation():\n",
    "    x_speeds = np.arange(-5, 13, 0.1)\n",
    "    x_distances = np.arange(0, 10, 0.1)\n",
    "\n",
    "    distance = ctrl.Antecedent(x_distances, 'distance')\n",
    "    curr_velocity = ctrl.Antecedent(x_speeds, 'curr_velocity')\n",
    "    target_velocity = ctrl.Consequent(x_speeds, 'target_velocity')\n",
    "\n",
    "    distance.automf(3)\n",
    "    target_velocity.automf(3)\n",
    "    curr_velocity.automf(3)\n",
    "\n",
    "    rules = (\n",
    "        ctrl.Rule(distance['poor'] & curr_velocity['poor'], target_velocity['poor']),\n",
    "        ctrl.Rule(distance['poor'] & curr_velocity['average'], target_velocity['poor']),\n",
    "        ctrl.Rule(distance['poor'] & curr_velocity['good'], target_velocity['average']),\n",
    "        ctrl.Rule(distance['average'] & curr_velocity['poor'], target_velocity['good']),\n",
    "        ctrl.Rule(distance['average'] & curr_velocity['average'], target_velocity['good']),\n",
    "        ctrl.Rule(distance['average'] & curr_velocity['good'], target_velocity['good']),\n",
    "        ctrl.Rule(distance['good'] & curr_velocity['poor'], target_velocity['good']),\n",
    "        ctrl.Rule(distance['good'] & curr_velocity['average'], target_velocity['good']),\n",
    "        ctrl.Rule(distance['good'] & curr_velocity['good'], target_velocity['good']),\n",
    "    )\n",
    "\n",
    "    driver = ctrl.ControlSystemSimulation(ctrl.ControlSystem(rules=rules))\n",
    "\n",
    "    vrep.simxFinish(-1) # closes all opened connections, in case any prevoius wasnt finished\n",
    "    clientID=vrep.simxStart('127.0.0.1',19999,True,True,5000,5) # start a connection\n",
    "\n",
    "    if clientID!=-1:\n",
    "        print (\"Connected to remote API server\")\n",
    "    else:\n",
    "        print(\"Not connected to remote API server\")\n",
    "        sys.exit(\"Could not connect\")\n",
    "\n",
    "    tank=Tank(clientID)\n",
    "\n",
    "    err_code,ps_handle = vrep.simxGetObjectHandle(clientID,\"Proximity_sensor\", vrep.simx_opmode_blocking)\n",
    "\n",
    "\n",
    "    while True:\n",
    "        err_code,_,detectedPoint,_,_=vrep.simxReadProximitySensor(clientID,ps_handle,vrep.simx_opmode_streaming)\n",
    "        dst = np.linalg.norm(detectedPoint)\n",
    "        c_vel = tank.readVelocity()\n",
    "\n",
    "        driver.input['distance'] = dst\n",
    "        driver.input['curr_velocity'] = c_vel\n",
    "\n",
    "        driver.compute()\n",
    "\n",
    "        target = driver.output['target_velocity']\n",
    "        if target <= 0.5:\n",
    "            target = 0\n",
    "\n",
    "        tank.forward(target)\n",
    "        print(f\"\\rdst={dst:.2f}, curr_velocity={c_vel:.2f}, target_velocity={target:.2f}\", end='')"
   ],
   "metadata": {
    "collapsed": false,
    "pycharm": {
     "name": "#%%\n"
    }
   }
  },
  {
   "cell_type": "code",
   "execution_count": 62,
   "outputs": [
    {
     "name": "stdout",
     "output_type": "stream",
     "text": [
      "Connected to remote API server\n",
      "dst=0.00, curr_velocity=0.00, target_velocity=0.00"
     ]
    },
    {
     "ename": "KeyboardInterrupt",
     "evalue": "",
     "output_type": "error",
     "traceback": [
      "\u001B[1;31m---------------------------------------------------------------------------\u001B[0m",
      "\u001B[1;31mKeyboardInterrupt\u001B[0m                         Traceback (most recent call last)",
      "Input \u001B[1;32mIn [62]\u001B[0m, in \u001B[0;36m<cell line: 1>\u001B[1;34m()\u001B[0m\n\u001B[1;32m----> 1\u001B[0m \u001B[43mgradualSimulation\u001B[49m\u001B[43m(\u001B[49m\u001B[43m)\u001B[49m\n",
      "Input \u001B[1;32mIn [61]\u001B[0m, in \u001B[0;36mgradualSimulation\u001B[1;34m()\u001B[0m\n\u001B[0;32m     56\u001B[0m \u001B[38;5;28;01mif\u001B[39;00m target \u001B[38;5;241m<\u001B[39m\u001B[38;5;241m=\u001B[39m \u001B[38;5;241m0.5\u001B[39m:\n\u001B[0;32m     57\u001B[0m     target \u001B[38;5;241m=\u001B[39m \u001B[38;5;241m0\u001B[39m\n\u001B[1;32m---> 59\u001B[0m \u001B[43mtank\u001B[49m\u001B[38;5;241;43m.\u001B[39;49m\u001B[43mforward\u001B[49m\u001B[43m(\u001B[49m\u001B[43mtarget\u001B[49m\u001B[43m)\u001B[49m\n\u001B[0;32m     60\u001B[0m \u001B[38;5;28mprint\u001B[39m(\u001B[38;5;124mf\u001B[39m\u001B[38;5;124m\"\u001B[39m\u001B[38;5;130;01m\\r\u001B[39;00m\u001B[38;5;124mdst=\u001B[39m\u001B[38;5;132;01m{\u001B[39;00mdst\u001B[38;5;132;01m:\u001B[39;00m\u001B[38;5;124m.2f\u001B[39m\u001B[38;5;132;01m}\u001B[39;00m\u001B[38;5;124m, curr_velocity=\u001B[39m\u001B[38;5;132;01m{\u001B[39;00mc_vel\u001B[38;5;132;01m:\u001B[39;00m\u001B[38;5;124m.2f\u001B[39m\u001B[38;5;132;01m}\u001B[39;00m\u001B[38;5;124m, target_velocity=\u001B[39m\u001B[38;5;132;01m{\u001B[39;00mtarget\u001B[38;5;132;01m:\u001B[39;00m\u001B[38;5;124m.2f\u001B[39m\u001B[38;5;132;01m}\u001B[39;00m\u001B[38;5;124m\"\u001B[39m, end\u001B[38;5;241m=\u001B[39m\u001B[38;5;124m'\u001B[39m\u001B[38;5;124m'\u001B[39m)\n",
      "File \u001B[1;32mD:\\!studia\\PSI\\Czolg\\tank.py:89\u001B[0m, in \u001B[0;36mTank.forward\u001B[1;34m(self, velocity)\u001B[0m\n\u001B[0;32m     88\u001B[0m \u001B[38;5;28;01mdef\u001B[39;00m \u001B[38;5;21mforward\u001B[39m(\u001B[38;5;28mself\u001B[39m, velocity\u001B[38;5;241m=\u001B[39m\u001B[38;5;28;01mNone\u001B[39;00m):\n\u001B[1;32m---> 89\u001B[0m     \u001B[38;5;28;43mself\u001B[39;49m\u001B[38;5;241;43m.\u001B[39;49m\u001B[43mgo\u001B[49m\u001B[43m(\u001B[49m\u001B[43m)\u001B[49m\n\u001B[0;32m     90\u001B[0m     \u001B[38;5;28;01mif\u001B[39;00m velocity \u001B[38;5;241m!=\u001B[39m \u001B[38;5;28;01mNone\u001B[39;00m:\n\u001B[0;32m     91\u001B[0m         \u001B[38;5;28mself\u001B[39m\u001B[38;5;241m.\u001B[39mleftvelocity \u001B[38;5;241m=\u001B[39m velocity\n",
      "File \u001B[1;32mD:\\!studia\\PSI\\Czolg\\tank.py:58\u001B[0m, in \u001B[0;36mTank.go\u001B[1;34m(self)\u001B[0m\n\u001B[0;32m     56\u001B[0m force \u001B[38;5;241m=\u001B[39m \u001B[38;5;241m10\u001B[39m\n\u001B[0;32m     57\u001B[0m err_code \u001B[38;5;241m=\u001B[39m vrep\u001B[38;5;241m.\u001B[39msimxSetJointForce(\u001B[38;5;28mself\u001B[39m\u001B[38;5;241m.\u001B[39mclientID, \u001B[38;5;28mself\u001B[39m\u001B[38;5;241m.\u001B[39mleft_front_handle, force, vrep\u001B[38;5;241m.\u001B[39msimx_opmode_oneshot)\n\u001B[1;32m---> 58\u001B[0m err_code \u001B[38;5;241m=\u001B[39m \u001B[43mvrep\u001B[49m\u001B[38;5;241;43m.\u001B[39;49m\u001B[43msimxSetJointForce\u001B[49m\u001B[43m(\u001B[49m\u001B[38;5;28;43mself\u001B[39;49m\u001B[38;5;241;43m.\u001B[39;49m\u001B[43mclientID\u001B[49m\u001B[43m,\u001B[49m\u001B[43m \u001B[49m\u001B[38;5;28;43mself\u001B[39;49m\u001B[38;5;241;43m.\u001B[39;49m\u001B[43mleft_back_handle\u001B[49m\u001B[43m,\u001B[49m\u001B[43m \u001B[49m\u001B[43mforce\u001B[49m\u001B[43m,\u001B[49m\u001B[43m \u001B[49m\u001B[43mvrep\u001B[49m\u001B[38;5;241;43m.\u001B[39;49m\u001B[43msimx_opmode_oneshot\u001B[49m\u001B[43m)\u001B[49m\n\u001B[0;32m     59\u001B[0m err_code \u001B[38;5;241m=\u001B[39m vrep\u001B[38;5;241m.\u001B[39msimxSetJointForce(\u001B[38;5;28mself\u001B[39m\u001B[38;5;241m.\u001B[39mclientID, \u001B[38;5;28mself\u001B[39m\u001B[38;5;241m.\u001B[39mright_back_handle, force, vrep\u001B[38;5;241m.\u001B[39msimx_opmode_oneshot)\n\u001B[0;32m     60\u001B[0m err_code \u001B[38;5;241m=\u001B[39m vrep\u001B[38;5;241m.\u001B[39msimxSetJointForce(\u001B[38;5;28mself\u001B[39m\u001B[38;5;241m.\u001B[39mclientID, \u001B[38;5;28mself\u001B[39m\u001B[38;5;241m.\u001B[39mright_front_handle, force, vrep\u001B[38;5;241m.\u001B[39msimx_opmode_oneshot)\n",
      "File \u001B[1;32mD:\\!studia\\PSI\\Czolg\\vrep.py:205\u001B[0m, in \u001B[0;36msimxSetJointForce\u001B[1;34m(clientID, jointHandle, force, operationMode)\u001B[0m\n\u001B[0;32m    201\u001B[0m \u001B[38;5;28;01mdef\u001B[39;00m \u001B[38;5;21msimxSetJointForce\u001B[39m(clientID, jointHandle, force, operationMode):\n\u001B[0;32m    202\u001B[0m     \u001B[38;5;124;03m'''\u001B[39;00m\n\u001B[0;32m    203\u001B[0m \u001B[38;5;124;03m    Please have a look at the function description/documentation in the V-REP user manual\u001B[39;00m\n\u001B[0;32m    204\u001B[0m \u001B[38;5;124;03m    '''\u001B[39;00m\n\u001B[1;32m--> 205\u001B[0m     \u001B[38;5;28;01mreturn\u001B[39;00m \u001B[43mc_SetJointForce\u001B[49m\u001B[43m(\u001B[49m\u001B[43mclientID\u001B[49m\u001B[43m,\u001B[49m\u001B[43m \u001B[49m\u001B[43mjointHandle\u001B[49m\u001B[43m,\u001B[49m\u001B[43m \u001B[49m\u001B[43mforce\u001B[49m\u001B[43m,\u001B[49m\u001B[43m \u001B[49m\u001B[43moperationMode\u001B[49m\u001B[43m)\u001B[49m\n",
      "\u001B[1;31mKeyboardInterrupt\u001B[0m: "
     ]
    }
   ],
   "source": [
    "gradualSimulation()"
   ],
   "metadata": {
    "collapsed": false,
    "pycharm": {
     "name": "#%%\n"
    }
   }
  },
  {
   "cell_type": "code",
   "execution_count": null,
   "outputs": [],
   "source": [],
   "metadata": {
    "collapsed": false,
    "pycharm": {
     "name": "#%%\n"
    }
   }
  }
 ],
 "metadata": {
  "kernelspec": {
   "display_name": "Python 3",
   "language": "python",
   "name": "python3"
  },
  "language_info": {
   "codemirror_mode": {
    "name": "ipython",
    "version": 3
   },
   "file_extension": ".py",
   "mimetype": "text/x-python",
   "name": "python",
   "nbconvert_exporter": "python",
   "pygments_lexer": "ipython3",
   "version": "3.7.1"
  }
 },
 "nbformat": 4,
 "nbformat_minor": 2
}