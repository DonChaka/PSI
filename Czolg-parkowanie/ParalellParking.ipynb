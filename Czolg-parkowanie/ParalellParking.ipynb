{
 "cells": [
  {
   "cell_type": "code",
   "execution_count": 41,
   "metadata": {
    "pycharm": {
     "name": "#%%\n"
    }
   },
   "outputs": [],
   "source": [
    "import vrep \n",
    "import sys\n",
    "import time \n",
    "import numpy as np\n",
    "from tank import *\n",
    "from skfuzzy import control as ctrl"
   ]
  },
  {
   "cell_type": "markdown",
   "source": [
    "## Połączenie z V-REP"
   ],
   "metadata": {
    "collapsed": false,
    "pycharm": {
     "name": "#%% md\n"
    }
   }
  },
  {
   "cell_type": "code",
   "execution_count": 42,
   "outputs": [
    {
     "name": "stdout",
     "output_type": "stream",
     "text": [
      "Connected to remote API server\n"
     ]
    }
   ],
   "source": [
    "vrep.simxFinish(-1) # closes all opened connections, in case any prevoius wasnt finished\n",
    "clientID=vrep.simxStart('127.0.0.1',19999,True,True,5000,5) # start a connection\n",
    "\n",
    "if clientID!=-1:\n",
    "    print (\"Connected to remote API server\")\n",
    "else:\n",
    "    print(\"Not connected to remote API server\")\n",
    "    sys.exit(\"Could not connect\")\n",
    "\n",
    "#create instance of Tank\n",
    "tank=Tank(clientID)\n",
    "\n",
    "proximity_sensors=[\"EN\",\"ES\",\"NE\",\"NW\",\"SE\",\"SW\",\"WN\",\"WS\"]\n",
    "proximity_sensors_handles=[0]*8\n",
    "\n",
    "# get handle to proximity sensors\n",
    "for i in range(len(proximity_sensors)):\n",
    "    err_code,proximity_sensors_handles[i] = vrep.simxGetObjectHandle(clientID,\"Proximity_sensor_\"+proximity_sensors[i], vrep.simx_opmode_blocking)\n",
    "\n",
    "#read and print values from proximity sensors\n",
    "#first reading should be done with simx_opmode_streaming, further with simx_opmode_buffer parameter\n",
    "for sensor_name, sensor_handle in zip(proximity_sensors,proximity_sensors_handles):\n",
    "        err_code,detectionState,detectedPoint,detectedObjectHandle,detectedSurfaceNormalVector=vrep.simxReadProximitySensor(clientID,sensor_handle,vrep.simx_opmode_streaming)\n"
   ],
   "metadata": {
    "collapsed": false,
    "pycharm": {
     "name": "#%%\n"
    }
   }
  },
  {
   "cell_type": "code",
   "execution_count": 43,
   "outputs": [],
   "source": [
    "def read_proximity_sensor(sensor_name: str):\n",
    "    sensors = {\n",
    "        \"EN\": 0,\n",
    "        \"ES\": 1,\n",
    "        \"NE\": 2,\n",
    "        \"NW\": 3,\n",
    "        \"SE\": 4,\n",
    "        \"SW\": 5,\n",
    "        \"WN\": 6,\n",
    "        \"WS\": 7\n",
    "    }\n",
    "    _,detectionState,detectedPoint,_,_=vrep.simxReadProximitySensor(clientID,proximity_sensors_handles[sensors[sensor_name]],vrep.simx_opmode_buffer)\n",
    "    return detectionState, detectedPoint"
   ],
   "metadata": {
    "collapsed": false,
    "pycharm": {
     "name": "#%%\n"
    }
   }
  },
  {
   "cell_type": "markdown",
   "source": [
    "## Sprawdzanie wartości czujnikow"
   ],
   "metadata": {
    "collapsed": false,
    "pycharm": {
     "name": "#%% md\n"
    }
   }
  },
  {
   "cell_type": "code",
   "execution_count": 44,
   "outputs": [
    {
     "name": "stdout",
     "output_type": "stream",
     "text": [
      "EN: False, 0.00\n",
      "ES: False, 0.00\n",
      "NE: False, 0.00\n",
      "NW: False, 0.00\n",
      "SE: False, 0.00\n",
      "SW: False, 0.00\n",
      "WN: False, 0.00\n",
      "WS: False, 0.00\n"
     ]
    }
   ],
   "source": [
    "#first reading should be done with simx_opmode_streaming, further with simx_opmode_buffer parameter\n",
    "for sensor_name, sensor_handle in zip(proximity_sensors,proximity_sensors_handles):\n",
    "        err_code,detectionState,detectedPoint,detectedObjectHandle,detectedSurfaceNormalVector=vrep.simxReadProximitySensor(clientID,sensor_handle,vrep.simx_opmode_buffer)\n",
    "        print(f'{sensor_name}: {detectionState}, {np.linalg.norm(detectedPoint):.2f}')"
   ],
   "metadata": {
    "collapsed": false,
    "pycharm": {
     "name": "#%%\n"
    }
   }
  },
  {
   "cell_type": "markdown",
   "source": [
    "## Dojechanie do optymalnego miejsca do zaparkowania"
   ],
   "metadata": {
    "collapsed": false,
    "pycharm": {
     "name": "#%% md\n"
    }
   }
  },
  {
   "cell_type": "code",
   "execution_count": 45,
   "outputs": [
    {
     "name": "stdout",
     "output_type": "stream",
     "text": [
      "EN_dist: 0.81, ES_dist: 0.87, SE_dist: 2.92, target_velocity: 0.11909610"
     ]
    }
   ],
   "source": [
    "x_speeds = np.arange(-3, 8, 1)\n",
    "x_distances = np.arange(0, 5, 1)\n",
    "\n",
    "EN_dist = ctrl.Antecedent(x_distances, 'EN_dist')\n",
    "ES_dist = ctrl.Antecedent(x_distances, 'ES_dist')\n",
    "SE_dist = ctrl.Antecedent(x_distances, 'SE_dist')\n",
    "\n",
    "target_rotation_speed = ctrl.Consequent(x_speeds, 'target_velocity')\n",
    "\n",
    "EN_dist.automf(3)\n",
    "ES_dist.automf(3)\n",
    "SE_dist.automf(5)\n",
    "target_rotation_speed.automf(5)\n",
    "\n",
    "rules = (\n",
    "    ctrl.Rule(EN_dist['poor'] & ES_dist['poor'] & SE_dist['decent'], target_rotation_speed['mediocre']),\n",
    "    ctrl.Rule((EN_dist['average'] | EN_dist['good']) & (ES_dist['average'] | ES_dist['good']) &\n",
    "              (SE_dist['poor'] | SE_dist['mediocre'] | SE_dist['average'] | SE_dist['good']), target_rotation_speed['good']),\n",
    ")\n",
    "\n",
    "driver = ctrl.ControlSystemSimulation(ctrl.ControlSystem(rules=rules))\n",
    "\n",
    "# EN_dist.view(sim=driver)\n",
    "# SE_dist.view(sim=driver)\n",
    "# target_rotation_speed.view(sim=driver)\n",
    "\n",
    "while True:\n",
    "    detectionState,EN_detectedPoint = read_proximity_sensor('EN')\n",
    "    if detectionState:\n",
    "        EN_curr_dist = np.linalg.norm(EN_detectedPoint)\n",
    "    else:\n",
    "        EN_curr_dist = 100\n",
    "\n",
    "\n",
    "    detectionState,ES_detectedPoint = read_proximity_sensor('ES')\n",
    "    if detectionState:\n",
    "        ES_curr_dist = np.linalg.norm(ES_detectedPoint)\n",
    "    else:\n",
    "        ES_curr_dist = 100\n",
    "\n",
    "\n",
    "    detectionState,SE_detectedPoint = read_proximity_sensor('SE')\n",
    "    if detectionState:\n",
    "        SE_curr_dist = np.linalg.norm(SE_detectedPoint)\n",
    "    else:\n",
    "        SE_curr_dist = 100\n",
    "\n",
    "    driver.input['EN_dist'] = EN_curr_dist\n",
    "    driver.input['ES_dist'] = ES_curr_dist\n",
    "    driver.input['SE_dist'] = SE_curr_dist\n",
    "\n",
    "    try:\n",
    "        driver.compute()\n",
    "    except:\n",
    "        print(f'Error for values EN:{EN_curr_dist}, ES:{ES_curr_dist}, SE:{SE_curr_dist}')\n",
    "        break\n",
    "\n",
    "    target = driver.output['target_velocity']\n",
    "\n",
    "    print(f'\\rEN_dist: {EN_curr_dist:.2f}, ES_dist: {ES_curr_dist:.2f}, SE_dist: {SE_curr_dist:.2f}, target_velocity: {target:.2f}', end='')\n",
    "    if target <= 0.5:\n",
    "        target = 0\n",
    "        tank.forward(target)\n",
    "        break\n",
    "\n",
    "    tank.forward(target)\n"
   ],
   "metadata": {
    "collapsed": false,
    "pycharm": {
     "name": "#%%\n"
    }
   }
  },
  {
   "cell_type": "markdown",
   "source": [
    "## Obrót celujący do miejsca do zaparkowania"
   ],
   "metadata": {
    "collapsed": false,
    "pycharm": {
     "name": "#%% md\n"
    }
   }
  },
  {
   "cell_type": "code",
   "execution_count": 46,
   "outputs": [
    {
     "name": "stdout",
     "output_type": "stream",
     "text": [
      "SE_dist: 1.00, ES_dist: 0.88, SW_dist: 3.01, target_velocity: 0.37"
     ]
    }
   ],
   "source": [
    "x_speeds = np.arange(-2, 8, 1)\n",
    "x_distances = np.arange(0, 5, 1)\n",
    "\n",
    "ES_dist = ctrl.Antecedent(x_distances, 'ES_dist')\n",
    "SE_dist = ctrl.Antecedent(x_distances, 'SE_dist')\n",
    "SW_dist = ctrl.Antecedent(x_distances, 'SW_dist')\n",
    "\n",
    "target_rotation_speed = ctrl.Consequent(x_speeds, 'target_velocity')\n",
    "\n",
    "ES_dist.automf(3)\n",
    "SE_dist.automf(3)\n",
    "SW_dist.automf(5)\n",
    "target_rotation_speed.automf(5)\n",
    "\n",
    "rules = (\n",
    "    ctrl.Rule(ES_dist['poor'] & SE_dist['poor'] & SW_dist['decent'], target_rotation_speed['mediocre']),\n",
    "    ctrl.Rule((SE_dist['average'] | SE_dist['good']) & (ES_dist['average'] | ES_dist['good']) &\n",
    "              (SW_dist['poor'] | SW_dist['mediocre'] | SW_dist['average'] | SW_dist['good']), target_rotation_speed['good']),\n",
    ")\n",
    "\n",
    "driver = ctrl.ControlSystemSimulation(ctrl.ControlSystem(rules=rules))\n",
    "\n",
    "while True:\n",
    "    _,detectionState,SE_detectedPoint,_,_=vrep.simxReadProximitySensor(clientID,proximity_sensors_handles[0],vrep.simx_opmode_buffer)\n",
    "    if detectionState:\n",
    "        SE_curr_dist = np.linalg.norm(SE_detectedPoint)\n",
    "    else:\n",
    "        SE_curr_dist = 100\n",
    "\n",
    "\n",
    "    _,detectionState,ES_detectedPoint,_,_=vrep.simxReadProximitySensor(clientID,proximity_sensors_handles[1],vrep.simx_opmode_buffer)\n",
    "    if detectionState:\n",
    "        ES_curr_dist = np.linalg.norm(ES_detectedPoint)\n",
    "    else:\n",
    "        ES_curr_dist = 100\n",
    "\n",
    "\n",
    "    _,detectionState,SW_detectedPoint,_,_=vrep.simxReadProximitySensor(clientID,proximity_sensors_handles[5],vrep.simx_opmode_buffer)\n",
    "    if detectionState:\n",
    "        SW_curr_dist = np.linalg.norm(SW_detectedPoint)\n",
    "    else:\n",
    "        SW_curr_dist = 100\n",
    "\n",
    "    driver.input['ES_dist'] = ES_curr_dist\n",
    "    driver.input['SE_dist'] = SE_curr_dist\n",
    "    driver.input['SW_dist'] = SW_curr_dist\n",
    "\n",
    "    try:\n",
    "        driver.compute()\n",
    "    except:\n",
    "        print(f'Error for values SE:{SE_curr_dist}, ES:{ES_curr_dist}, SW:{SW_curr_dist}')\n",
    "        break\n",
    "\n",
    "    target = driver.output['target_velocity']\n",
    "\n",
    "    print(f'\\rSE_dist: {SE_curr_dist:.2f}, ES_dist: {ES_curr_dist:.2f}, SW_dist: {SW_curr_dist:.2f}, target_velocity: {target:.2f}', end='')\n",
    "    if target <= 0.5:\n",
    "        target = 0\n",
    "        tank.turn_left(target)\n",
    "        break\n",
    "\n",
    "    tank.turn_left(target)"
   ],
   "metadata": {
    "collapsed": false,
    "pycharm": {
     "name": "#%%\n"
    }
   }
  },
  {
   "cell_type": "markdown",
   "source": [
    "## Wycofanie do okolic miejsca parko\\wania"
   ],
   "metadata": {
    "collapsed": false,
    "pycharm": {
     "name": "#%% md\n"
    }
   }
  },
  {
   "cell_type": "code",
   "execution_count": 47,
   "outputs": [
    {
     "name": "stdout",
     "output_type": "stream",
     "text": [
      "SE_dist: 1.00, SW_dist: 2.01, target_velocity: 0.48"
     ]
    }
   ],
   "source": [
    "x_speeds = np.arange(-2, 5, 1)\n",
    "x_distances = np.arange(0.5, 3, 1)\n",
    "\n",
    "EN_dist = ctrl.Antecedent(x_distances, 'EN_dist')\n",
    "ES_dist = ctrl.Antecedent(x_distances, 'ES_dist')\n",
    "SW_dist = ctrl.Antecedent(x_distances, 'SW_dist')\n",
    "\n",
    "target_speed = ctrl.Consequent(x_speeds, 'target_velocity')\n",
    "\n",
    "EN_dist.automf(3)\n",
    "ES_dist.automf(3)\n",
    "SW_dist.automf(5)\n",
    "target_speed.automf(5)\n",
    "\n",
    "rules = (\n",
    "    ctrl.Rule(EN_dist['poor'] & ES_dist['poor'] & SW_dist['average'], target_speed['poor']),\n",
    "    ctrl.Rule((EN_dist['good'] | EN_dist['average']) & (ES_dist['good'] | ES_dist['average']) & (SW_dist['good'] | SW_dist['poor']), target_speed['decent']),\n",
    ")\n",
    "\n",
    "driver = ctrl.ControlSystemSimulation(ctrl.ControlSystem(rules=rules))\n",
    "\n",
    "while True:\n",
    "\n",
    "    detectionState, EN_detectedPoint = read_proximity_sensor('EN')\n",
    "    if detectionState:\n",
    "        EN_curr_dist = np.linalg.norm(EN_detectedPoint)\n",
    "    else:\n",
    "        EN_curr_dist = 100\n",
    "\n",
    "    detectionState, ES_detectedPoint = read_proximity_sensor('ES')\n",
    "    if detectionState:\n",
    "        ES_curr_dist = np.linalg.norm(ES_detectedPoint)\n",
    "    else:\n",
    "        ES_curr_dist = 100\n",
    "\n",
    "    detectionState, SW_detectedPoint = read_proximity_sensor('SW')\n",
    "    if detectionState:\n",
    "        SW_curr_dist = np.linalg.norm(SW_detectedPoint)\n",
    "    else:\n",
    "        SW_curr_dist = 100\n",
    "\n",
    "    driver.input['EN_dist'] = EN_curr_dist\n",
    "    driver.input['ES_dist'] = ES_curr_dist\n",
    "    driver.input['SW_dist'] = SW_curr_dist\n",
    "\n",
    "    try:\n",
    "        driver.compute()\n",
    "    except:\n",
    "        print(f'Error for values SE:{SE_curr_dist}, SW:{SW_curr_dist}')\n",
    "        break\n",
    "\n",
    "    target = driver.output['target_velocity']\n",
    "\n",
    "    print(f'\\rSE_dist: {SE_curr_dist:.2f}, SW_dist: {SW_curr_dist:.2f}, target_velocity: {target:.2f}', end='')\n",
    "    if target <= 0.5:\n",
    "        tank.stop()\n",
    "        break\n",
    "\n",
    "    tank.turn_left(2.5)\n",
    "    tank.backward(target)"
   ],
   "metadata": {
    "collapsed": false,
    "pycharm": {
     "name": "#%%\n"
    }
   }
  },
  {
   "cell_type": "code",
   "execution_count": 48,
   "outputs": [
    {
     "name": "stdout",
     "output_type": "stream",
     "text": [
      "SE_dist: 100.00, SW_dist: 0.93, target_velocity: 0.49"
     ]
    }
   ],
   "source": [
    "x_speeds = np.arange(-2, 5, 1)\n",
    "x_distances = np.arange(0.65, 3.65, 1)\n",
    "\n",
    "SW_dist = ctrl.Antecedent(x_distances, 'SW_dist')\n",
    "SE_dist = ctrl.Antecedent(x_distances, 'SE_dist')\n",
    "\n",
    "target_speed = ctrl.Consequent(x_speeds, 'target_velocity')\n",
    "\n",
    "SW_dist.automf(3)\n",
    "SE_dist.automf(3)\n",
    "target_speed.automf(5)\n",
    "\n",
    "rules = (\n",
    "    ctrl.Rule(SE_dist['poor'] | SW_dist['poor'], target_speed['poor']),\n",
    "    ctrl.Rule((SE_dist['good'] | SE_dist['average']) & (SW_dist['good'] | SW_dist['average']), target_speed['decent']),\n",
    ")\n",
    "\n",
    "driver = ctrl.ControlSystemSimulation(ctrl.ControlSystem(rules=rules))\n",
    "\n",
    "while True:\n",
    "    detectionState, SE_detectedPoint = read_proximity_sensor('SE')\n",
    "    if detectionState:\n",
    "        SE_curr_dist = np.linalg.norm(SE_detectedPoint)\n",
    "    else:\n",
    "        SE_curr_dist = 100\n",
    "\n",
    "    detectionState, SW_detectedPoint = read_proximity_sensor('SW')\n",
    "    if detectionState:\n",
    "        SW_curr_dist = np.linalg.norm(SW_detectedPoint)\n",
    "    else:\n",
    "        SW_curr_dist = 100\n",
    "\n",
    "    driver.input['SE_dist'] = SE_curr_dist\n",
    "    driver.input['SW_dist'] = SW_curr_dist\n",
    "\n",
    "    try:\n",
    "        driver.compute()\n",
    "    except:\n",
    "        print(f'Error for values SE:{SE_curr_dist}, SW:{SW_curr_dist}')\n",
    "        break\n",
    "\n",
    "    target = driver.output['target_velocity']\n",
    "\n",
    "    print(f'\\rSE_dist: {SE_curr_dist:.2f}, SW_dist: {SW_curr_dist:.2f}, target_velocity: {target:.2f}', end='')\n",
    "    if target <= 0.5:\n",
    "        tank.stop()\n",
    "        break\n",
    "\n",
    "    tank.turn_right(0.75 * target)\n",
    "    tank.backward(target)"
   ],
   "metadata": {
    "collapsed": false,
    "pycharm": {
     "name": "#%%\n"
    }
   }
  },
  {
   "cell_type": "code",
   "execution_count": 49,
   "outputs": [
    {
     "name": "stdout",
     "output_type": "stream",
     "text": [
      "SE_dist: 1.44, SW_dist: 1.68, NE_dist: 0.76, NW_dist: 100.00 target_velocity: -0.095"
     ]
    }
   ],
   "source": [
    "x_speeds = np.arange(-2, 5, 1)\n",
    "x_distances = np.arange(0.65, 3.65, 1)\n",
    "\n",
    "SW_dist = ctrl.Antecedent(x_distances, 'SW_dist')\n",
    "SE_dist = ctrl.Antecedent(x_distances, 'SE_dist')\n",
    "NE_dist = ctrl.Antecedent(x_distances, 'NE_dist')\n",
    "NW_dist = ctrl.Antecedent(x_distances, 'NW_dist')\n",
    "\n",
    "target_speed = ctrl.Consequent(x_speeds, 'target_velocity')\n",
    "\n",
    "SW_dist.automf(3)\n",
    "SE_dist.automf(3)\n",
    "NE_dist.automf(3)\n",
    "NW_dist.automf(3)\n",
    "target_speed.automf(5)\n",
    "\n",
    "rules = (\n",
    "    ctrl.Rule((SE_dist['average'] | SW_dist['average']) & (NE_dist['average'] | NW_dist['average']), target_speed['poor']),\n",
    "    ctrl.Rule((SE_dist['good'] | SE_dist['poor']) &\n",
    "              (SW_dist['good'] | SW_dist['poor']) &\n",
    "              (NE_dist['good'] | NE_dist['poor']) &\n",
    "              (NW_dist['good'] | NW_dist['poor']), target_speed['decent']),\n",
    ")\n",
    "\n",
    "driver = ctrl.ControlSystemSimulation(ctrl.ControlSystem(rules=rules))\n",
    "\n",
    "while True:\n",
    "    detectionState, SE_detectedPoint = read_proximity_sensor('SE')\n",
    "    if detectionState:\n",
    "        SE_curr_dist = np.linalg.norm(SE_detectedPoint)\n",
    "    else:\n",
    "        SE_curr_dist = 100\n",
    "\n",
    "    detectionState, SW_detectedPoint = read_proximity_sensor('SW')\n",
    "    if detectionState:\n",
    "        SW_curr_dist = np.linalg.norm(SW_detectedPoint)\n",
    "    else:\n",
    "        SW_curr_dist = 100\n",
    "\n",
    "    detectionState, NE_detectedPoint = read_proximity_sensor('NE')\n",
    "    if detectionState:\n",
    "        NE_curr_dist = np.linalg.norm(NE_detectedPoint)\n",
    "    else:\n",
    "        NE_curr_dist = 100\n",
    "\n",
    "    detectionState, NW_detectedPoint = read_proximity_sensor('NW')\n",
    "    if detectionState:\n",
    "        NW_curr_dist = np.linalg.norm(NW_detectedPoint)\n",
    "    else:\n",
    "        NW_curr_dist = 100\n",
    "\n",
    "    driver.input['SE_dist'] = SE_curr_dist\n",
    "    driver.input['SW_dist'] = SW_curr_dist\n",
    "    driver.input['NE_dist'] = NE_curr_dist\n",
    "    driver.input['NW_dist'] = NW_curr_dist\n",
    "\n",
    "    try:\n",
    "        driver.compute()\n",
    "    except:\n",
    "        print(f'Error for values SE:{SE_curr_dist}, SW:{SW_curr_dist}')\n",
    "        break\n",
    "\n",
    "    target = driver.output['target_velocity']\n",
    "\n",
    "    print(f'\\rSE_dist: {SE_curr_dist:.2f}, SW_dist: {SW_curr_dist:.2f}, NE_dist: {NE_curr_dist:.2f}, NW_dist: {NW_curr_dist:.2f} target_velocity: {target:.2f}', end='')\n",
    "    if target <= 0.5:\n",
    "        tank.stop()\n",
    "        break\n",
    "\n",
    "    tank.turn_right(3*target)\n",
    "    tank.forward(target)"
   ],
   "metadata": {
    "collapsed": false,
    "pycharm": {
     "name": "#%%\n"
    }
   }
  }
 ],
 "metadata": {
  "kernelspec": {
   "display_name": "Python 3",
   "language": "python",
   "name": "python3"
  },
  "language_info": {
   "codemirror_mode": {
    "name": "ipython",
    "version": 3
   },
   "file_extension": ".py",
   "mimetype": "text/x-python",
   "name": "python",
   "nbconvert_exporter": "python",
   "pygments_lexer": "ipython3",
   "version": "3.7.1"
  }
 },
 "nbformat": 4,
 "nbformat_minor": 2
}