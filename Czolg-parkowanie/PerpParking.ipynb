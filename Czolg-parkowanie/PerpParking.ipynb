{
 "cells": [
  {
   "cell_type": "code",
   "execution_count": 75,
   "metadata": {
    "pycharm": {
     "name": "#%%\n"
    }
   },
   "outputs": [],
   "source": [
    "import vrep \n",
    "import sys\n",
    "import time \n",
    "import numpy as np\n",
    "from tank import *\n",
    "from skfuzzy import control as ctrl"
   ]
  },
  {
   "cell_type": "markdown",
   "source": [
    "## Połączenie z V-REP"
   ],
   "metadata": {
    "collapsed": false,
    "pycharm": {
     "name": "#%% md\n"
    }
   }
  },
  {
   "cell_type": "code",
   "execution_count": 76,
   "outputs": [
    {
     "name": "stdout",
     "output_type": "stream",
     "text": [
      "Connected to remote API server\n"
     ]
    }
   ],
   "source": [
    "vrep.simxFinish(-1) # closes all opened connections, in case any prevoius wasnt finished\n",
    "clientID=vrep.simxStart('127.0.0.1',19999,True,True,5000,5) # start a connection\n",
    "\n",
    "if clientID!=-1:\n",
    "    print (\"Connected to remote API server\")\n",
    "else:\n",
    "    print(\"Not connected to remote API server\")\n",
    "    sys.exit(\"Could not connect\")\n",
    "\n",
    "#create instance of Tank\n",
    "tank=Tank(clientID)\n",
    "\n",
    "proximity_sensors=[\"EN\",\"ES\",\"NE\",\"NW\",\"SE\",\"SW\",\"WN\",\"WS\"]\n",
    "proximity_sensors_handles=[0]*8\n",
    "\n",
    "# get handle to proximity sensors\n",
    "for i in range(len(proximity_sensors)):\n",
    "    err_code,proximity_sensors_handles[i] = vrep.simxGetObjectHandle(clientID,\"Proximity_sensor_\"+proximity_sensors[i], vrep.simx_opmode_blocking)\n",
    "\n",
    "#read and print values from proximity sensors\n",
    "#first reading should be done with simx_opmode_streaming, further with simx_opmode_buffer parameter\n",
    "for sensor_name, sensor_handle in zip(proximity_sensors,proximity_sensors_handles):\n",
    "        err_code,detectionState,detectedPoint,detectedObjectHandle,detectedSurfaceNormalVector=vrep.simxReadProximitySensor(clientID,sensor_handle,vrep.simx_opmode_streaming)\n"
   ],
   "metadata": {
    "collapsed": false,
    "pycharm": {
     "name": "#%%\n"
    }
   }
  },
  {
   "cell_type": "code",
   "execution_count": 77,
   "outputs": [],
   "source": [
    "def read_proximity_sensor(sensor_name: str):\n",
    "    sensors = {\n",
    "        \"EN\": 0,\n",
    "        \"ES\": 1,\n",
    "        \"NE\": 2,\n",
    "        \"NW\": 3,\n",
    "        \"SE\": 4,\n",
    "        \"SW\": 5,\n",
    "        \"WN\": 6,\n",
    "        \"WS\": 7\n",
    "    }\n",
    "    _,detectionState,detectedPoint,_,_=vrep.simxReadProximitySensor(clientID,proximity_sensors_handles[sensors[sensor_name]],vrep.simx_opmode_buffer)\n",
    "    return detectionState, detectedPoint"
   ],
   "metadata": {
    "collapsed": false,
    "pycharm": {
     "name": "#%%\n"
    }
   }
  },
  {
   "cell_type": "code",
   "execution_count": 80,
   "outputs": [
    {
     "name": "stdout",
     "output_type": "stream",
     "text": [
      "NW_dist:3.51 WN_dist: 2.09, target_velocity: 0.24"
     ]
    }
   ],
   "source": [
    "x_speeds = np.arange(-3, 8, 1)\n",
    "x_distances = np.arange(2, 3.6, 0.1)\n",
    "\n",
    "NW_dist = ctrl.Antecedent(x_distances, 'NW_dist')\n",
    "WN_dist = ctrl.Antecedent(x_distances, 'WN_dist')\n",
    "target_speed = ctrl.Consequent(x_speeds, 'target_velocity')\n",
    "\n",
    "NW_dist.automf(3)\n",
    "WN_dist.automf(3)\n",
    "target_speed.automf(5)\n",
    "\n",
    "rules = (\n",
    "    ctrl.Rule(NW_dist['good'] & WN_dist['poor'], target_speed['mediocre']),\n",
    "    ctrl.Rule((NW_dist['poor'] | NW_dist['good']) & (WN_dist['average'] | WN_dist['average']), target_speed['good']),\n",
    ")\n",
    "\n",
    "driver = ctrl.ControlSystemSimulation(ctrl.ControlSystem(rules=rules))\n",
    "\n",
    "while True:\n",
    "    detectionState, NW_detectedPoint = read_proximity_sensor(\"NW\")\n",
    "    if detectionState:\n",
    "        NW_curr_dist = np.linalg.norm(NW_detectedPoint)\n",
    "    else:\n",
    "        NW_curr_dist = 100\n",
    "\n",
    "    detectionState, WN_detectedPoint = read_proximity_sensor(\"WN\")\n",
    "    if detectionState:\n",
    "        WN_curr_dist = np.linalg.norm(WN_detectedPoint)\n",
    "    else:\n",
    "        WN_curr_dist = 100\n",
    "\n",
    "    driver.input['NW_dist'] = NW_curr_dist\n",
    "    driver.input['WN_dist'] = WN_curr_dist\n",
    "\n",
    "    try:\n",
    "        driver.compute()\n",
    "    except:\n",
    "        print(f'Error for values NW:{NW_curr_dist}')\n",
    "        break\n",
    "\n",
    "    target = driver.output['target_velocity']\n",
    "\n",
    "    print(f'\\rNW_dist:{NW_curr_dist:.2f} WN_dist: {WN_curr_dist:.2f}, target_velocity: {target:.2f}', end='')\n",
    "    if target <= 0.5:\n",
    "        target = 0\n",
    "        tank.forward(target)\n",
    "        break\n",
    "\n",
    "    tank.forward(target)"
   ],
   "metadata": {
    "collapsed": false,
    "pycharm": {
     "name": "#%%\n"
    }
   }
  },
  {
   "cell_type": "code",
   "execution_count": 82,
   "outputs": [
    {
     "name": "stdout",
     "output_type": "stream",
     "text": [
      "NW_dist:1.15 NE_dist: 1.15, target_velocity: 0.4010"
     ]
    }
   ],
   "source": [
    "x_speeds = np.arange(-3, 8, 1)\n",
    "x_distances = np.arange(1, 3, 0.1)\n",
    "\n",
    "NW_dist = ctrl.Antecedent(x_distances, 'NW_dist')\n",
    "NE_dist = ctrl.Antecedent(x_distances, 'NE_dist')\n",
    "target_speed = ctrl.Consequent(x_speeds, 'target_velocity')\n",
    "\n",
    "NE_dist.automf(3)\n",
    "NW_dist.automf(3)\n",
    "target_speed.automf(5)\n",
    "\n",
    "rules = (\n",
    "    ctrl.Rule((NE_dist['average'] & NW_dist['average']) |\n",
    "              (NE_dist['poor'] & NW_dist['poor']), target_speed['mediocre']),\n",
    "    ctrl.Rule(NW_dist['good'] | NE_dist['good'] |\n",
    "              (NE_dist['average'] & NW_dist['poor']) |\n",
    "              (NE_dist['poor'] & NW_dist['average']), target_speed['good']),\n",
    ")\n",
    "\n",
    "driver = ctrl.ControlSystemSimulation(ctrl.ControlSystem(rules=rules))\n",
    "\n",
    "while True:\n",
    "    detectionState, NW_detectedPoint = read_proximity_sensor(\"NW\")\n",
    "    if detectionState:\n",
    "        NW_curr_dist = np.linalg.norm(NW_detectedPoint)\n",
    "    else:\n",
    "        NW_curr_dist = 100\n",
    "\n",
    "    detectionState, NE_detectedPoint = read_proximity_sensor(\"NE\")\n",
    "    if detectionState:\n",
    "        NE_curr_dist = np.linalg.norm(NE_detectedPoint)\n",
    "    else:\n",
    "        NE_curr_dist = 100\n",
    "\n",
    "    driver.input['NW_dist'] = NW_curr_dist\n",
    "    driver.input['NE_dist'] = NE_curr_dist\n",
    "\n",
    "    try:\n",
    "        driver.compute()\n",
    "    except:\n",
    "        print(f'Error for values NW_dist:{NW_curr_dist:.2f} NE_dist: {NE_curr_dist:.2f}')\n",
    "        break\n",
    "\n",
    "    target = driver.output['target_velocity']\n",
    "\n",
    "    print(f'\\rNW_dist:{NW_curr_dist:.2f} NE_dist: {NE_curr_dist:.2f}, target_velocity: {target:.2f}', end='')\n",
    "    if target <= 0.5:\n",
    "        target = 0\n",
    "        tank.forward(target)\n",
    "        break\n",
    "\n",
    "    tank.turn_left(1.3 * target)\n",
    "    tank.forward(target)"
   ],
   "metadata": {
    "collapsed": false,
    "pycharm": {
     "name": "#%%\n"
    }
   }
  },
  {
   "cell_type": "code",
   "execution_count": 84,
   "outputs": [
    {
     "name": "stdout",
     "output_type": "stream",
     "text": [
      " NW_dist: 0.64 NE_dist: 100.00 WN_dist: 0.44 EN_dist: 0.58, target_velocity: -0.82"
     ]
    }
   ],
   "source": [
    "x_speeds = np.arange(-2, 5, 1)\n",
    "x_distances = np.arange(1, 3, 0.1)\n",
    "\n",
    "\n",
    "NE_dist = ctrl.Antecedent(x_distances, 'NE_dist')\n",
    "WN_dist = ctrl.Antecedent(x_distances, 'WN_dist')\n",
    "EN_dist = ctrl.Antecedent(x_distances, 'EN_dist')\n",
    "target_speed = ctrl.Consequent(x_speeds, 'target_velocity')\n",
    "\n",
    "NE_dist.automf(3)\n",
    "EN_dist.automf(3)\n",
    "WN_dist.automf(3)\n",
    "target_speed.automf(5)\n",
    "rules = (\n",
    "    ctrl.Rule(WN_dist['poor'] & EN_dist['poor'], target_speed['poor']),\n",
    "    ctrl.Rule(NE_dist['average'] & EN_dist['average'], target_speed['poor']),\n",
    "    ctrl.Rule(NE_dist['poor'], target_speed['good']),\n",
    "    ctrl.Rule(NE_dist['good'], target_speed['mediocre']),\n",
    ")\n",
    "\n",
    "\n",
    "driver = ctrl.ControlSystemSimulation(ctrl.ControlSystem(rules=rules))\n",
    "\n",
    "while True:\n",
    "    detectionState, NW_detectedPoint = read_proximity_sensor(\"NW\")\n",
    "    if detectionState:\n",
    "        NW_curr_dist = np.linalg.norm(NW_detectedPoint)\n",
    "    else:\n",
    "        NW_curr_dist = 100\n",
    "\n",
    "    detectionState, NE_detectedPoint = read_proximity_sensor(\"NE\")\n",
    "    if detectionState:\n",
    "        NE_curr_dist = np.linalg.norm(NE_detectedPoint)\n",
    "    else:\n",
    "        NE_curr_dist = 100\n",
    "\n",
    "    detectionState, WN_detectedPoint = read_proximity_sensor(\"WN\")\n",
    "    if detectionState:\n",
    "        WN_curr_dist = np.linalg.norm(WN_detectedPoint)\n",
    "    else:\n",
    "        WN_curr_dist = 100\n",
    "\n",
    "    detectionState, EN_detectedPoint = read_proximity_sensor(\"EN\")\n",
    "    if detectionState:\n",
    "        EN_curr_dist = np.linalg.norm(EN_detectedPoint)\n",
    "    else:\n",
    "        EN_curr_dist = 100\n",
    "\n",
    "    driver.input['NE_dist'] = NE_curr_dist\n",
    "    driver.input['WN_dist'] = WN_curr_dist\n",
    "    driver.input['EN_dist'] = EN_curr_dist\n",
    "\n",
    "    try:\n",
    "        driver.compute()\n",
    "    except:\n",
    "        print(f'Error for values NW_dist:{NW_curr_dist:.2f} NE_dist: {NE_curr_dist:.2f} WN_dist: {WN_curr_dist:.2f} EN_dist: {EN_curr_dist:.2f}')\n",
    "        break\n",
    "\n",
    "    target = driver.output['target_velocity']\n",
    "\n",
    "    print(f'\\r NW_dist: {NW_curr_dist:.2f} NE_dist: {NE_curr_dist:.2f} WN_dist: {WN_curr_dist:.2f} EN_dist: {EN_curr_dist:.2f}, target_velocity: {target:.2f}', end='')\n",
    "\n",
    "    if target <= 0:\n",
    "        target = 0\n",
    "        tank.stop()\n",
    "        break\n",
    "\n",
    "    tank.turn_left(target)\n",
    "    tank.forward(1)"
   ],
   "metadata": {
    "collapsed": false,
    "pycharm": {
     "name": "#%%\n"
    }
   }
  },
  {
   "cell_type": "code",
   "execution_count": 84,
   "outputs": [],
   "source": [],
   "metadata": {
    "collapsed": false,
    "pycharm": {
     "name": "#%%\n"
    }
   }
  }
 ],
 "metadata": {
  "kernelspec": {
   "display_name": "Python 3",
   "language": "python",
   "name": "python3"
  },
  "language_info": {
   "codemirror_mode": {
    "name": "ipython",
    "version": 3
   },
   "file_extension": ".py",
   "mimetype": "text/x-python",
   "name": "python",
   "nbconvert_exporter": "python",
   "pygments_lexer": "ipython3",
   "version": "3.7.1"
  }
 },
 "nbformat": 4,
 "nbformat_minor": 2
}